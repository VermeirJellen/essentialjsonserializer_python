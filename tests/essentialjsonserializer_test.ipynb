{
 "cells": [
  {
   "cell_type": "markdown",
   "metadata": {},
   "source": [
    "# EssentialJSONSerializer (Python package)\n",
    "The intention of the package fuctionality is to (de)serialize language specific complex objects towards generic \n",
    "JSON-datatype objects. The JSON conversion allows for flexible cross language communication when the package is implemented\n",
    "across different languages. This package provides a Python implementation of the (de)serialization functionality.\n",
    "\n",
    "**Installation**:\n",
    "\n",
    "`pip install git+https://github.com/VermeirJellen/essentialjsonserializer_python.git`"
   ]
  },
  {
   "cell_type": "markdown",
   "metadata": {},
   "source": [
    "JSON (de)serialization of complex Python-objects.\n",
    "--------------------------------------------\n",
    "\n",
    "Currently, 6 generic complex JSON-datatypes are provided. Corresponding Python-mappings are defined as follows:\n",
    "\n",
    "-   JSON **datetime** - maps to Python `datetime.datetime` objects\n",
    "-   JSON **timeseries** - maps to Python `pandas.Series` objects (with `pandas.DatetimeIndex` index)\n",
    "-   JSON **timeseries\\_n\\_dim** - maps to Python n-dimensional `pandas.DataFrame` objects (n &gt; 1) (with `pandas.DatetimeIndex` index)\n",
    "-   JSON **series** - maps to Python 1-dimensional `pandas.Series` objects\n",
    "-   JSON **dataframe** - maps to Python n-dimensional `pandas.DataFrame` objects (n &gt; 1)\n",
    "-   JSON **matrix** - maps to Python `numpy.array` objects\n",
    "\n",
    "The package provides the user with the `EssentialJSONSerializer` class. Following methods are provided:\n",
    "\n",
    "-   `python_to_dict`: Convert complex Python structures to a generic `dict` structure.\n",
    "-   `python_to_json`: Convert complex Python structures to a generic datatype JSON structure.\n",
    "-   `python_from_list`: Convert generic `dict` structure to complex Python-specific objects.\n",
    "-   `python_from_json`: Convert generic datatype JSON structure to complex Python-specific objects.\n",
    "\n",
    "Examples\n",
    "--------\n",
    "\n",
    "#### **EssentialJSONSerializer Object Construction**"
   ]
  },
  {
   "cell_type": "code",
   "execution_count": 1,
   "metadata": {},
   "outputs": [
    {
     "data": {
      "text/plain": [
       "essentialjsonserializer.essentialjsonserializer.EssentialJSONSerializer"
      ]
     },
     "execution_count": 1,
     "metadata": {},
     "output_type": "execute_result"
    }
   ],
   "source": [
    "import pytz\n",
    "import datetime\n",
    "import pandas as pd\n",
    "import numpy as np\n",
    "import essentialjsonserializer\n",
    "essential_serializer = essentialjsonserializer.EssentialJSONSerializer\n",
    "essential_serializer"
   ]
  },
  {
   "cell_type": "markdown",
   "metadata": {},
   "source": [
    "#### **list**\n",
    "\n",
    "Serialize:"
   ]
  },
  {
   "cell_type": "code",
   "execution_count": 2,
   "metadata": {},
   "outputs": [
    {
     "data": {
      "text/plain": [
       "'[[1, 2, 3, 4], [5, 6, 7, 8]]'"
      ]
     },
     "execution_count": 2,
     "metadata": {},
     "output_type": "execute_result"
    }
   ],
   "source": [
    "list_input = [[1, 2, 3, 4], [5, 6, 7, 8]]\n",
    "list_json  = essential_serializer.python_to_json(list_input)\n",
    "\n",
    "list_json"
   ]
  },
  {
   "cell_type": "markdown",
   "metadata": {},
   "source": [
    "Deserialize:"
   ]
  },
  {
   "cell_type": "code",
   "execution_count": 3,
   "metadata": {},
   "outputs": [
    {
     "data": {
      "text/plain": [
       "[[1, 2, 3, 4], [5, 6, 7, 8]]"
      ]
     },
     "execution_count": 3,
     "metadata": {},
     "output_type": "execute_result"
    }
   ],
   "source": [
    "list_revert = essential_serializer.python_from_json(list_json)\n",
    "list_revert"
   ]
  },
  {
   "cell_type": "markdown",
   "metadata": {},
   "source": [
    "#### **datetime**\n",
    "\n",
    "Serialize:"
   ]
  },
  {
   "cell_type": "code",
   "execution_count": 4,
   "metadata": {},
   "outputs": [
    {
     "data": {
      "text/plain": [
       "'{\"_type\": \"datetime\", \"_data\": \"2017-01-01T00:00:00+00:00\"}'"
      ]
     },
     "execution_count": 4,
     "metadata": {},
     "output_type": "execute_result"
    }
   ],
   "source": [
    "# custom datastructure: datetime\n",
    "datetime_input         = datetime.datetime(2017, 1, 1, 0, 0, 0, 0, pytz.UTC)\n",
    "datetime_json          = essential_serializer.python_to_json(datetime_input)\n",
    "datetime_json"
   ]
  },
  {
   "cell_type": "markdown",
   "metadata": {},
   "source": [
    "Deserialize:"
   ]
  },
  {
   "cell_type": "code",
   "execution_count": 5,
   "metadata": {},
   "outputs": [
    {
     "data": {
      "text/plain": [
       "datetime.datetime(2017, 1, 1, 0, 0, tzinfo=tzutc())"
      ]
     },
     "execution_count": 5,
     "metadata": {},
     "output_type": "execute_result"
    }
   ],
   "source": [
    "datetime_revert        = essential_serializer.python_from_json(datetime_json)\n",
    "datetime_revert"
   ]
  },
  {
   "cell_type": "markdown",
   "metadata": {},
   "source": [
    "#### **timeseries**\n",
    "\n",
    "Serialize:"
   ]
  },
  {
   "cell_type": "code",
   "execution_count": 6,
   "metadata": {},
   "outputs": [
    {
     "data": {
      "text/plain": [
       "'{\"_type\": \"timeseries\", \"_data\": {\"_timestamps\": [\"2014-07-04T00:00:00\", \"2014-08-04T00:00:00\", \"2015-07-04T00:00:00\", \"2015-08-04T00:00:00\", \"2015-08-05T00:00:00\"], \"series_name\": [0.0, 1.0, 2.0, 3.0, null]}}'"
      ]
     },
     "execution_count": 6,
     "metadata": {},
     "output_type": "execute_result"
    }
   ],
   "source": [
    "timeseries_input       = pd.Series([0, 1, 2, 3, np.nan], \\\n",
    "                                   index=pd.DatetimeIndex(['2014-07-04', '2014-08-04','2015-07-04', '2015-08-04', '2015-08-05']), name='series_name')\n",
    "timeseries_json        = essential_serializer.python_to_json(timeseries_input)\n",
    "timeseries_json"
   ]
  },
  {
   "cell_type": "markdown",
   "metadata": {},
   "source": [
    "Deserialize:"
   ]
  },
  {
   "cell_type": "code",
   "execution_count": 7,
   "metadata": {},
   "outputs": [
    {
     "data": {
      "text/plain": [
       "2014-07-04    0.0\n",
       "2014-08-04    1.0\n",
       "2015-07-04    2.0\n",
       "2015-08-04    3.0\n",
       "2015-08-05    NaN\n",
       "Name: series_name, dtype: float64"
      ]
     },
     "execution_count": 7,
     "metadata": {},
     "output_type": "execute_result"
    }
   ],
   "source": [
    "timeseries_revert      = essential_serializer.python_from_json(timeseries_json)\n",
    "timeseries_revert"
   ]
  },
  {
   "cell_type": "markdown",
   "metadata": {},
   "source": [
    "#### **timeseries_n_dim**\n",
    "\n",
    "Serialize:"
   ]
  },
  {
   "cell_type": "code",
   "execution_count": 8,
   "metadata": {},
   "outputs": [
    {
     "data": {
      "text/plain": [
       "'{\"_type\": \"timeseries_n_dim\", \"_data\": {\"_timestamps\": [\"2014-07-04T00:00:00\", \"2014-08-04T00:00:00\", \"2015-07-04T00:00:00\"], \"col1\": [1, 2, 3], \"col2\": [4, 5, 6]}}'"
      ]
     },
     "execution_count": 8,
     "metadata": {},
     "output_type": "execute_result"
    }
   ],
   "source": [
    "timeseries_n_dim_input  = pd.DataFrame({'col1': [1, 2, 3], 'col2': [4, 5, 6]}, index=pd.DatetimeIndex(['2014-07-04', '2014-08-04','2015-07-04']))\n",
    "timeseries_n_dim_json   = essential_serializer.python_to_json(timeseries_n_dim_input)\n",
    "timeseries_n_dim_json"
   ]
  },
  {
   "cell_type": "markdown",
   "metadata": {},
   "source": [
    "Deserialize:"
   ]
  },
  {
   "cell_type": "code",
   "execution_count": 9,
   "metadata": {},
   "outputs": [
    {
     "data": {
      "text/html": [
       "<div>\n",
       "<style scoped>\n",
       "    .dataframe tbody tr th:only-of-type {\n",
       "        vertical-align: middle;\n",
       "    }\n",
       "\n",
       "    .dataframe tbody tr th {\n",
       "        vertical-align: top;\n",
       "    }\n",
       "\n",
       "    .dataframe thead th {\n",
       "        text-align: right;\n",
       "    }\n",
       "</style>\n",
       "<table border=\"1\" class=\"dataframe\">\n",
       "  <thead>\n",
       "    <tr style=\"text-align: right;\">\n",
       "      <th></th>\n",
       "      <th>col1</th>\n",
       "      <th>col2</th>\n",
       "    </tr>\n",
       "  </thead>\n",
       "  <tbody>\n",
       "    <tr>\n",
       "      <th>2014-07-04</th>\n",
       "      <td>1</td>\n",
       "      <td>4</td>\n",
       "    </tr>\n",
       "    <tr>\n",
       "      <th>2014-08-04</th>\n",
       "      <td>2</td>\n",
       "      <td>5</td>\n",
       "    </tr>\n",
       "    <tr>\n",
       "      <th>2015-07-04</th>\n",
       "      <td>3</td>\n",
       "      <td>6</td>\n",
       "    </tr>\n",
       "  </tbody>\n",
       "</table>\n",
       "</div>"
      ],
      "text/plain": [
       "            col1  col2\n",
       "2014-07-04     1     4\n",
       "2014-08-04     2     5\n",
       "2015-07-04     3     6"
      ]
     },
     "execution_count": 9,
     "metadata": {},
     "output_type": "execute_result"
    }
   ],
   "source": [
    "timeseries_n_dim_revert = essential_serializer.python_from_json(timeseries_n_dim_json)\n",
    "timeseries_n_dim_revert"
   ]
  },
  {
   "cell_type": "markdown",
   "metadata": {},
   "source": [
    "#### **series**\n",
    "\n",
    "Serialize:"
   ]
  },
  {
   "cell_type": "code",
   "execution_count": 10,
   "metadata": {},
   "outputs": [
    {
     "data": {
      "text/plain": [
       "'{\"_type\": \"series\", \"_data\": {\"_index\": [0, 1, 2, 3], \"series_name\": [5, 6, 7, 8]}}'"
      ]
     },
     "execution_count": 10,
     "metadata": {},
     "output_type": "execute_result"
    }
   ],
   "source": [
    "series_input           = pd.Series([5, 6, 7, 8], name='series_name')\n",
    "series_json            = essential_serializer.python_to_json(series_input)\n",
    "series_json"
   ]
  },
  {
   "cell_type": "markdown",
   "metadata": {},
   "source": [
    "Deserialize:"
   ]
  },
  {
   "cell_type": "code",
   "execution_count": 11,
   "metadata": {},
   "outputs": [
    {
     "data": {
      "text/plain": [
       "0    5\n",
       "1    6\n",
       "2    7\n",
       "3    8\n",
       "Name: series_name, dtype: int64"
      ]
     },
     "execution_count": 11,
     "metadata": {},
     "output_type": "execute_result"
    }
   ],
   "source": [
    "series_revert          = essential_serializer.python_from_json(series_json)\n",
    "series_revert"
   ]
  },
  {
   "cell_type": "markdown",
   "metadata": {},
   "source": [
    "#### **dataframe**\n",
    "\n",
    "Serialize:"
   ]
  },
  {
   "cell_type": "code",
   "execution_count": 12,
   "metadata": {},
   "outputs": [
    {
     "data": {
      "text/plain": [
       "'{\"_type\": \"dataframe\", \"_data\": {\"_index\": [\"n1\", \"n2\", \"n3\"], \"col1\": [1, 2, 3], \"col2\": [4, 5, 6]}}'"
      ]
     },
     "execution_count": 12,
     "metadata": {},
     "output_type": "execute_result"
    }
   ],
   "source": [
    "dataframe_input        = pd.DataFrame({'col1': [1, 2, 3], 'col2': [4, 5, 6]}, index=['n1', 'n2', 'n3'])\n",
    "dataframe_json         = essential_serializer.python_to_json(dataframe_input)\n",
    "dataframe_json"
   ]
  },
  {
   "cell_type": "markdown",
   "metadata": {},
   "source": [
    "Deserialize:"
   ]
  },
  {
   "cell_type": "code",
   "execution_count": 13,
   "metadata": {},
   "outputs": [
    {
     "data": {
      "text/html": [
       "<div>\n",
       "<style scoped>\n",
       "    .dataframe tbody tr th:only-of-type {\n",
       "        vertical-align: middle;\n",
       "    }\n",
       "\n",
       "    .dataframe tbody tr th {\n",
       "        vertical-align: top;\n",
       "    }\n",
       "\n",
       "    .dataframe thead th {\n",
       "        text-align: right;\n",
       "    }\n",
       "</style>\n",
       "<table border=\"1\" class=\"dataframe\">\n",
       "  <thead>\n",
       "    <tr style=\"text-align: right;\">\n",
       "      <th></th>\n",
       "      <th>col1</th>\n",
       "      <th>col2</th>\n",
       "    </tr>\n",
       "  </thead>\n",
       "  <tbody>\n",
       "    <tr>\n",
       "      <th>n1</th>\n",
       "      <td>1</td>\n",
       "      <td>4</td>\n",
       "    </tr>\n",
       "    <tr>\n",
       "      <th>n2</th>\n",
       "      <td>2</td>\n",
       "      <td>5</td>\n",
       "    </tr>\n",
       "    <tr>\n",
       "      <th>n3</th>\n",
       "      <td>3</td>\n",
       "      <td>6</td>\n",
       "    </tr>\n",
       "  </tbody>\n",
       "</table>\n",
       "</div>"
      ],
      "text/plain": [
       "    col1  col2\n",
       "n1     1     4\n",
       "n2     2     5\n",
       "n3     3     6"
      ]
     },
     "execution_count": 13,
     "metadata": {},
     "output_type": "execute_result"
    }
   ],
   "source": [
    "dataframe_revert       = essential_serializer.python_from_json(dataframe_json)\n",
    "dataframe_revert"
   ]
  },
  {
   "cell_type": "markdown",
   "metadata": {},
   "source": [
    "#### **matrix**\n",
    "\n",
    "Serialize:"
   ]
  },
  {
   "cell_type": "code",
   "execution_count": 14,
   "metadata": {},
   "outputs": [
    {
     "data": {
      "text/plain": [
       "'{\"_type\": \"matrix\", \"_data\": [[1, 2, 3], [4, 5, 6], [7, 8, 9]]}'"
      ]
     },
     "execution_count": 14,
     "metadata": {},
     "output_type": "execute_result"
    }
   ],
   "source": [
    "matrix_input  = np.array([[1, 2, 3], [4, 5, 6], [7, 8, 9]])\n",
    "matrix_json   = essential_serializer.python_to_json(matrix_input)\n",
    "matrix_json"
   ]
  },
  {
   "cell_type": "markdown",
   "metadata": {},
   "source": [
    "Deserialize:"
   ]
  },
  {
   "cell_type": "code",
   "execution_count": 15,
   "metadata": {},
   "outputs": [
    {
     "data": {
      "text/plain": [
       "array([[1, 2, 3],\n",
       "       [4, 5, 6],\n",
       "       [7, 8, 9]])"
      ]
     },
     "execution_count": 15,
     "metadata": {},
     "output_type": "execute_result"
    }
   ],
   "source": [
    "matrix_revert = essential_serializer.python_from_json(matrix_json)\n",
    "matrix_revert"
   ]
  },
  {
   "cell_type": "markdown",
   "metadata": {},
   "source": [
    "#### **nested structure**\n",
    "\n",
    "Serialize:"
   ]
  },
  {
   "cell_type": "code",
   "execution_count": 16,
   "metadata": {},
   "outputs": [
    {
     "data": {
      "text/plain": [
       "'{\"list_input\": [[1, 2, 3, 4], [5, 6, 7, 8]], \"datetime_input\": {\"_type\": \"datetime\", \"_data\": \"2017-01-01T00:00:00+00:00\"}, \"timeseries_input\": {\"_type\": \"timeseries\", \"_data\": {\"_timestamps\": [\"2014-07-04T00:00:00\", \"2014-08-04T00:00:00\", \"2015-07-04T00:00:00\", \"2015-08-04T00:00:00\", \"2015-08-05T00:00:00\"], \"series_name\": [0.0, 1.0, 2.0, 3.0, null]}}, \"timeseries_n_dim_input\": {\"_type\": \"timeseries_n_dim\", \"_data\": {\"_timestamps\": [\"2014-07-04T00:00:00\", \"2014-08-04T00:00:00\", \"2015-07-04T00:00:00\"], \"col1\": [1, 2, 3], \"col2\": [4, 5, 6]}}, \"series_input\": {\"_type\": \"series\", \"_data\": {\"_index\": [0, 1, 2, 3], \"series_name\": [5, 6, 7, 8]}}, \"dataframe_input\": {\"_type\": \"dataframe\", \"_data\": {\"_index\": [\"n1\", \"n2\", \"n3\"], \"col1\": [1, 2, 3], \"col2\": [4, 5, 6]}}, \"matrix_input\": {\"_type\": \"matrix\", \"_data\": [[1, 2, 3], [4, 5, 6], [7, 8, 9]]}}'"
      ]
     },
     "execution_count": 16,
     "metadata": {},
     "output_type": "execute_result"
    }
   ],
   "source": [
    "python_complex = {\n",
    "                  'list_input': [[1, 2, 3, 4], [5, 6, 7, 8]],\n",
    "                  'datetime_input': datetime_input,\n",
    "                  'timeseries_input': timeseries_input,\n",
    "                  'timeseries_n_dim_input': timeseries_n_dim_input,\n",
    "                  'series_input': series_input,\n",
    "                  'dataframe_input': dataframe_input,\n",
    "                  'matrix_input': matrix_input\n",
    "              }\n",
    "\n",
    "output_dict           = essentialjsonserializer.EssentialJSONSerializer.python_to_dict(python_complex)\n",
    "output_json           = essentialjsonserializer.EssentialJSONSerializer.python_to_json(python_complex)\n",
    "output_json"
   ]
  },
  {
   "cell_type": "markdown",
   "metadata": {},
   "source": [
    "Deserialize:"
   ]
  },
  {
   "cell_type": "code",
   "execution_count": 17,
   "metadata": {},
   "outputs": [
    {
     "data": {
      "text/plain": [
       "{'list_input': [[1, 2, 3, 4], [5, 6, 7, 8]],\n",
       " 'datetime_input': datetime.datetime(2017, 1, 1, 0, 0, tzinfo=tzutc()),\n",
       " 'timeseries_input': 2014-07-04    0.0\n",
       " 2014-08-04    1.0\n",
       " 2015-07-04    2.0\n",
       " 2015-08-04    3.0\n",
       " 2015-08-05    NaN\n",
       " Name: series_name, dtype: float64,\n",
       " 'timeseries_n_dim_input':             col1  col2\n",
       " 2014-07-04     1     4\n",
       " 2014-08-04     2     5\n",
       " 2015-07-04     3     6,\n",
       " 'series_input': 0    5\n",
       " 1    6\n",
       " 2    7\n",
       " 3    8\n",
       " Name: series_name, dtype: int64,\n",
       " 'dataframe_input':     col1  col2\n",
       " n1     1     4\n",
       " n2     2     5\n",
       " n3     3     6,\n",
       " 'matrix_input': array([[1, 2, 3],\n",
       "        [4, 5, 6],\n",
       "        [7, 8, 9]])}"
      ]
     },
     "execution_count": 17,
     "metadata": {},
     "output_type": "execute_result"
    }
   ],
   "source": [
    "python_complex_revert = essentialjsonserializer.EssentialJSONSerializer.python_from_dict(output_dict)\n",
    "python_complex_revert = essentialjsonserializer.EssentialJSONSerializer.python_from_json(output_json)\n",
    "python_complex_revert"
   ]
  },
  {
   "cell_type": "markdown",
   "metadata": {},
   "source": [
    "## Donations\n",
    "\n",
    "If you find this software useful and/or you would like to see additional extensions, feel free to donate some btc:\n",
    "\n",
    " - BTC: 3NmxUnuK8ZqAszzFzcpBerKsy4ajQpb8mi\n",
    " \n",
    "## Licensing\n",
    "\n",
    "Copyright 2019 Essential Data Science Consulting ltd. ([EssentialDataScience.com](http://essentialdatascience.com \"EssentialDataScience\") / jellenvermeir@essentialdatascience.com).\n",
    "This software is copyrighted under the MIT license: View added [LICENSE](./LICENSE) file."
   ]
  }
 ],
 "metadata": {
  "kernelspec": {
   "display_name": "Python 3",
   "language": "python",
   "name": "python3"
  },
  "language_info": {
   "codemirror_mode": {
    "name": "ipython",
    "version": 3
   },
   "file_extension": ".py",
   "mimetype": "text/x-python",
   "name": "python",
   "nbconvert_exporter": "python",
   "pygments_lexer": "ipython3",
   "version": "3.6.5"
  }
 },
 "nbformat": 4,
 "nbformat_minor": 2
}
